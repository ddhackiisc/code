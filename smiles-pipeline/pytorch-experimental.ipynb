{
 "cells": [
  {
   "cell_type": "markdown",
   "metadata": {},
   "source": [
    "This notebook contains experiments on running a basic fully connected neural network to predict androgen receptor activity"
   ]
  },
  {
   "cell_type": "code",
   "execution_count": null,
   "metadata": {},
   "outputs": [],
   "source": [
    "#!/usr/bin/env python3\n",
    "# -*- coding: utf-8 -*-\n",
    "\"\"\"\n",
    "Created on Mon Jul 27 17:21:32 2020\n",
    "\n",
    "@author: julian\n",
    "\n",
    "This file is for visualizing molecules in the SMILES format using rdkit\n",
    "CCOC(=O)C(O)(C1=CC=C(Cl)C=C1)C2=CC=C(Cl)C=C2\n",
    "\"\"\"\n",
    "\"\"\"Useful commands\n",
    "mol = Chem.MolFromSmiles('CCCO')\n",
    "smiles = Chem.MolToSmiles(mol)\n",
    "img = Draw.MolToImage(mol)\n",
    "smiles_list = ['CCCO',\n",
    "               'CCOC(=O)C(O)(C1=CC=C(Cl)C=C1)C2=CC=C(Cl)C=C2',\n",
    "               '[H][C@]12C[C@@]3([H])[C@]4([H])CC[C@@]5([H])C[C@H](CC[C@]5(C)[C@@]4([H])CC[C@]3(C)[C@@]1([H])[C@H](C)[C@]6(CC[C@H](C)CN6)O2)O[C@@H]7O[C@H](CO)[C@H](O[C@@H]8O[C@H](CO)[C@@H](O)[C@H](O[C@@H]9OC[C@@H](O)[C@H](O)[C@H]9O)[C@H]8O[C@@H]%10O[C@H](CO)[C@@H](O)[C@H](O)[C@H]%10O)[C@H](O)[C@H]7O']\n",
    "mol_list = list(map(Chem.MolFromSmiles, smiles_list))\n",
    "imgs = Draw.MolsToGridImage(mol_list)\n",
    "pattern = Chem.MolFromSmiles('C(=O)')\n",
    "for mol in mol_list:\n",
    "    print(mol.HasSubstructMatch(pattern))\n",
    "    \n",
    "glycine = Chem.MolFromSmiles('C(C(=O)O)N')\n",
    "glyprint = AllChem.GetMorganFingerprintAsBitVect(glycine, radius=2, nBits=1024)\n",
    "glyp_arr = np.zeros((1,))\n",
    "DataStructs.ConvertToNumpyArray(glyprint, glyp_arr)\n",
    "bi={}\n",
    "glyanalyse = AllChem.GetMorganFingerprintAsBitVect(glycine, radius=2, nBits=1024, bitInfo=bi)\n",
    "prints = [(glycine,x,bi) for x in glyanalyse.GetOnBits()]\n",
    "Draw.DrawMorganBits(prints, molsPerRow=4, legends=[str(x) for x in glyanalyse.GetOnBits()])\n",
    "\n",
    "#Tanimoto Similarity: Gives number of common on bits divided by total combined on bits\n",
    "cysteine = Chem.MolFromSmiles('C([C@@H](C(=O)O)N)S')\n",
    "cyanalyse = AllChem.GetMorganFingerprintAsBitVect(cysteine, radius=2, nBits=1024)\n",
    "\n",
    "DataStructs.TanimotoSimilarity(glyanalyse,cyanalyse)\n",
    "\n",
    "#apparently pickling molecules is much faster than \n",
    "#reparsing SMILES strings\n",
    "\"\"\""
   ]
  },
  {
   "cell_type": "code",
   "execution_count": 2,
   "metadata": {},
   "outputs": [],
   "source": [
    "from rdkit import Chem, DataStructs\n",
    "from rdkit.Chem import Draw, Descriptors, AllChem\n",
    "\n",
    "import numpy as np\n",
    "import pandas as pd\n",
    "\n",
    "\n",
    "from sklearn.linear_model import LogisticRegression\n",
    "from sklearn.naive_bayes import GaussianNB\n",
    "from sklearn.model_selection import train_test_split\n",
    "from sklearn.metrics import accuracy_score, f1_score"
   ]
  },
  {
   "cell_type": "code",
   "execution_count": 3,
   "metadata": {},
   "outputs": [],
   "source": [
    "data = pd.read_csv('data/nr-ar.smiles',\n",
    "                   sep='\\t',\n",
    "                   names=['SMILES','Identifier','Activity'])\n",
    "minipos = data[data['Activity']==1].head()\n",
    "minineg = data[100:105]\n",
    "minidata = pd.concat([minipos,minineg])"
   ]
  },
  {
   "cell_type": "code",
   "execution_count": 265,
   "metadata": {},
   "outputs": [
    {
     "data": {
      "text/html": [
       "<div>\n",
       "<style scoped>\n",
       "    .dataframe tbody tr th:only-of-type {\n",
       "        vertical-align: middle;\n",
       "    }\n",
       "\n",
       "    .dataframe tbody tr th {\n",
       "        vertical-align: top;\n",
       "    }\n",
       "\n",
       "    .dataframe thead th {\n",
       "        text-align: right;\n",
       "    }\n",
       "</style>\n",
       "<table border=\"1\" class=\"dataframe\">\n",
       "  <thead>\n",
       "    <tr style=\"text-align: right;\">\n",
       "      <th></th>\n",
       "      <th>SMILES</th>\n",
       "      <th>Identifier</th>\n",
       "      <th>Activity</th>\n",
       "    </tr>\n",
       "  </thead>\n",
       "  <tbody>\n",
       "    <tr>\n",
       "      <th>32</th>\n",
       "      <td>ClC1=CC=C(NC(=N)NC(=N)NCCCCCCNC(=N)NC(=N)NC2=C...</td>\n",
       "      <td>NCGC00258955-01</td>\n",
       "      <td>1</td>\n",
       "    </tr>\n",
       "    <tr>\n",
       "      <th>173</th>\n",
       "      <td>CCN(CC)C1=CC=C2C(C)=CC(=O)OC2=C1</td>\n",
       "      <td>NCGC00259338-01</td>\n",
       "      <td>1</td>\n",
       "    </tr>\n",
       "    <tr>\n",
       "      <th>198</th>\n",
       "      <td>CCN(CC)C1=CC=C2C(C)=CC(=O)OC2=C1</td>\n",
       "      <td>NCGC00257038-01</td>\n",
       "      <td>1</td>\n",
       "    </tr>\n",
       "    <tr>\n",
       "      <th>256</th>\n",
       "      <td>OC1=CC(=CC(O)=C1O)C(=O)OC2=CC(=CC(O)=C2O)C(=O)...</td>\n",
       "      <td>NCGC00095101-01</td>\n",
       "      <td>1</td>\n",
       "    </tr>\n",
       "    <tr>\n",
       "      <th>264</th>\n",
       "      <td>[H][C@@]12OC\\C3=C/C=C/[C@H](C)C\\C(C)=C\\C[C@]4(...</td>\n",
       "      <td>NCGC00183118-01</td>\n",
       "      <td>1</td>\n",
       "    </tr>\n",
       "    <tr>\n",
       "      <th>100</th>\n",
       "      <td>CCCCCCCCCCCCN(CCO)CCO</td>\n",
       "      <td>NCGC00255856-01</td>\n",
       "      <td>0</td>\n",
       "    </tr>\n",
       "    <tr>\n",
       "      <th>101</th>\n",
       "      <td>[Cl-].CCCCCCCCCCCCCCCCN1C=C[N+](C)=C1</td>\n",
       "      <td>NCGC00258154-01</td>\n",
       "      <td>0</td>\n",
       "    </tr>\n",
       "    <tr>\n",
       "      <th>102</th>\n",
       "      <td>O[N+]([O-])=O.ClC1=CC=C(COC(CN2C=CN=C2)C3=C(Cl...</td>\n",
       "      <td>NCGC00257500-01</td>\n",
       "      <td>0</td>\n",
       "    </tr>\n",
       "    <tr>\n",
       "      <th>103</th>\n",
       "      <td>CCC(C)NC1=CC=C(NC(C)CC)C=C1</td>\n",
       "      <td>NCGC00257925-01</td>\n",
       "      <td>0</td>\n",
       "    </tr>\n",
       "    <tr>\n",
       "      <th>104</th>\n",
       "      <td>OC1=C(C=C(Cl)C=C1)C(=O)NC2=CC=C(C=C2Cl)[N+]([O...</td>\n",
       "      <td>NCGC00254654-01</td>\n",
       "      <td>0</td>\n",
       "    </tr>\n",
       "  </tbody>\n",
       "</table>\n",
       "</div>"
      ],
      "text/plain": [
       "                                                SMILES       Identifier  \\\n",
       "32   ClC1=CC=C(NC(=N)NC(=N)NCCCCCCNC(=N)NC(=N)NC2=C...  NCGC00258955-01   \n",
       "173                   CCN(CC)C1=CC=C2C(C)=CC(=O)OC2=C1  NCGC00259338-01   \n",
       "198                   CCN(CC)C1=CC=C2C(C)=CC(=O)OC2=C1  NCGC00257038-01   \n",
       "256  OC1=CC(=CC(O)=C1O)C(=O)OC2=CC(=CC(O)=C2O)C(=O)...  NCGC00095101-01   \n",
       "264  [H][C@@]12OC\\C3=C/C=C/[C@H](C)C\\C(C)=C\\C[C@]4(...  NCGC00183118-01   \n",
       "100                              CCCCCCCCCCCCN(CCO)CCO  NCGC00255856-01   \n",
       "101              [Cl-].CCCCCCCCCCCCCCCCN1C=C[N+](C)=C1  NCGC00258154-01   \n",
       "102  O[N+]([O-])=O.ClC1=CC=C(COC(CN2C=CN=C2)C3=C(Cl...  NCGC00257500-01   \n",
       "103                        CCC(C)NC1=CC=C(NC(C)CC)C=C1  NCGC00257925-01   \n",
       "104  OC1=C(C=C(Cl)C=C1)C(=O)NC2=CC=C(C=C2Cl)[N+]([O...  NCGC00254654-01   \n",
       "\n",
       "     Activity  \n",
       "32          1  \n",
       "173         1  \n",
       "198         1  \n",
       "256         1  \n",
       "264         1  \n",
       "100         0  \n",
       "101         0  \n",
       "102         0  \n",
       "103         0  \n",
       "104         0  "
      ]
     },
     "execution_count": 265,
     "metadata": {},
     "output_type": "execute_result"
    }
   ],
   "source": [
    "minidata"
   ]
  },
  {
   "cell_type": "code",
   "execution_count": 5,
   "metadata": {},
   "outputs": [],
   "source": [
    "def validSMILES(smiles):\n",
    "    mol = Chem.MolFromSmiles(smiles)\n",
    "    if mol is None:\n",
    "        return False\n",
    "    return True\n",
    "\n",
    "def morganArrayFromSmiles(smiles, nBits):\n",
    "    \"\"\"Accepts a SMILES string and a size parameter nBits and\n",
    "    produces a numpy array of the required size\"\"\"\n",
    "    RADIUS = 2 # this parameter defines how many atoms away from the base atom the fingerprint looks for\n",
    "    mol = Chem.MolFromSmiles(smiles)\n",
    "    fp = AllChem.GetMorganFingerprintAsBitVect(mol, radius=RADIUS, nBits=nBits)\n",
    "    arr = np.zeros((1,))\n",
    "    DataStructs.ConvertToNumpyArray(fp, arr)\n",
    "    return arr\n",
    "    "
   ]
  },
  {
   "cell_type": "code",
   "execution_count": 12,
   "metadata": {},
   "outputs": [],
   "source": [
    "def createDataset(df, morgansize):\n",
    "    \"\"\"takes a pandas dataframe with smiles and a target and creates the \n",
    "    X feature matrix and y target vector to train an ML models\n",
    "    The features are a morgan fingerprint vector of length equal to morgansize\"\"\"\n",
    "    df['Valid'] = df['SMILES'].apply(validSMILES)\n",
    "    cleandf = df[df['Valid']==True]\n",
    "    X = [morganArrayFromSmiles(sm,morgansize) for sm in cleandf['SMILES']]\n",
    "    X = np.array(X)\n",
    "    y = np.array(cleandf['Activity'])\n",
    "    assert len(X)==len(y)\n",
    "    return X,y"
   ]
  },
  {
   "cell_type": "code",
   "execution_count": null,
   "metadata": {},
   "outputs": [],
   "source": []
  },
  {
   "cell_type": "code",
   "execution_count": 266,
   "metadata": {},
   "outputs": [],
   "source": [
    "morgansize = 1024\n",
    "X,y = createDataset(minidata,morgansize)"
   ]
  },
  {
   "cell_type": "code",
   "execution_count": 267,
   "metadata": {},
   "outputs": [],
   "source": [
    "Xtrain, Xtest, ytrain, ytest = train_test_split(X, y, random_state=1)"
   ]
  },
  {
   "cell_type": "code",
   "execution_count": 268,
   "metadata": {},
   "outputs": [
    {
     "name": "stdout",
     "output_type": "stream",
     "text": [
      "Train accuracy:  1.0\n",
      "Test accuracy:  0.6666666666666666\n",
      "F1 score:  0.6666666666666666\n"
     ]
    }
   ],
   "source": [
    "skmodel = LogisticRegression(class_weight='balanced')\n",
    "#model = LogisticRegression()\n",
    "#model = GaussianNB()\n",
    "skmodel.fit(Xtrain, ytrain)                  \n",
    "y_model = skmodel.predict(Xtest)   \n",
    "ytrain_model = skmodel.predict(Xtrain)\n",
    "print('Train accuracy: ',accuracy_score(ytrain, ytrain_model))\n",
    "print('Test accuracy: ',accuracy_score(ytest, y_model))\n",
    "print('F1 score: ',f1_score(ytest, y_model))"
   ]
  },
  {
   "cell_type": "markdown",
   "metadata": {},
   "source": [
    "\n",
    "with 50 bits in the fingerprint\n",
    "A Gaussian Naive Bayes Model gets to 84 percent accuracy \n",
    "but this is meaningless. F1 score is 0.2\n",
    "\n",
    "with 2048 bits \n",
    "GNB\n",
    "Train accuracy:  0.8306968790081232\n",
    "Test accuracy:  0.791025641025641\n",
    "F1 score:  0.12834224598930483\n",
    "\n",
    "With balanced Logisitic Regression\n",
    "Train accuracy:  0.9844662961379507\n",
    "Test accuracy:  0.9508547008547008\n",
    "F1 score:  0.41624365482233505\n"
   ]
  },
  {
   "cell_type": "code",
   "execution_count": 269,
   "metadata": {},
   "outputs": [
    {
     "data": {
      "text/plain": [
       "array([1, 1, 0])"
      ]
     },
     "execution_count": 269,
     "metadata": {},
     "output_type": "execute_result"
    }
   ],
   "source": [
    "y_model"
   ]
  },
  {
   "cell_type": "code",
   "execution_count": 270,
   "metadata": {},
   "outputs": [],
   "source": [
    "from torch import nn"
   ]
  },
  {
   "cell_type": "code",
   "execution_count": 271,
   "metadata": {},
   "outputs": [],
   "source": [
    "from torch.autograd import Variable"
   ]
  },
  {
   "cell_type": "code",
   "execution_count": 272,
   "metadata": {},
   "outputs": [
    {
     "name": "stdout",
     "output_type": "stream",
     "text": [
      "Sequential(\n",
      "  (0): Linear(in_features=1024, out_features=128, bias=True)\n",
      "  (1): ReLU()\n",
      "  (2): Linear(in_features=128, out_features=64, bias=True)\n",
      "  (3): ReLU()\n",
      "  (4): Linear(in_features=64, out_features=1, bias=True)\n",
      "  (5): Sigmoid()\n",
      ")\n"
     ]
    }
   ],
   "source": [
    "# Hyperparameters for our network\n",
    "input_size = morgansize\n",
    "hidden_sizes = [128, 64]\n",
    "output_size = 1\n",
    "# Build a feed-forward network\n",
    "model = nn.Sequential(nn.Linear(input_size, hidden_sizes[0]),\n",
    "                      nn.ReLU(),\n",
    "                      nn.Linear(hidden_sizes[0], hidden_sizes[1]),\n",
    "                      nn.ReLU(),\n",
    "                      nn.Linear(hidden_sizes[1], output_size),\n",
    "                      nn.Sigmoid())\n",
    "print(model)"
   ]
  },
  {
   "cell_type": "code",
   "execution_count": 273,
   "metadata": {},
   "outputs": [],
   "source": [
    "criterion = nn.MSELoss()\n",
    "\n",
    "#CrossEntropyLoss() requires logits as the output and class labels as the target"
   ]
  },
  {
   "cell_type": "code",
   "execution_count": 274,
   "metadata": {},
   "outputs": [
    {
     "data": {
      "text/plain": [
       "array([[0., 0., 0., ..., 0., 0., 0.],\n",
       "       [0., 0., 0., ..., 0., 0., 1.],\n",
       "       [0., 0., 0., ..., 0., 0., 1.],\n",
       "       ...,\n",
       "       [0., 1., 0., ..., 0., 0., 0.],\n",
       "       [0., 1., 0., ..., 0., 0., 0.],\n",
       "       [0., 0., 0., ..., 0., 0., 0.]])"
      ]
     },
     "execution_count": 274,
     "metadata": {},
     "output_type": "execute_result"
    }
   ],
   "source": [
    "X"
   ]
  },
  {
   "cell_type": "code",
   "execution_count": 275,
   "metadata": {},
   "outputs": [],
   "source": [
    "X = torch.from_numpy(X).float()\n",
    "y = torch.from_numpy(y).float()"
   ]
  },
  {
   "cell_type": "code",
   "execution_count": 276,
   "metadata": {},
   "outputs": [
    {
     "data": {
      "text/plain": [
       "(7, 1024)"
      ]
     },
     "execution_count": 276,
     "metadata": {},
     "output_type": "execute_result"
    }
   ],
   "source": [
    "Xtrain.shape"
   ]
  },
  {
   "cell_type": "code",
   "execution_count": 277,
   "metadata": {},
   "outputs": [],
   "source": [
    "Xtrain, Xtest, ytrain, ytest = train_test_split(X, y, random_state=1)"
   ]
  },
  {
   "cell_type": "code",
   "execution_count": 278,
   "metadata": {},
   "outputs": [
    {
     "data": {
      "text/plain": [
       "tensor([[0., 1., 0.,  ..., 0., 0., 0.],\n",
       "        [0., 0., 0.,  ..., 0., 0., 0.],\n",
       "        [0., 0., 0.,  ..., 0., 0., 0.],\n",
       "        ...,\n",
       "        [0., 1., 0.,  ..., 0., 0., 0.],\n",
       "        [0., 1., 0.,  ..., 0., 0., 0.],\n",
       "        [0., 0., 0.,  ..., 0., 0., 0.]])"
      ]
     },
     "execution_count": 278,
     "metadata": {},
     "output_type": "execute_result"
    }
   ],
   "source": [
    "Xtrain"
   ]
  },
  {
   "cell_type": "code",
   "execution_count": 279,
   "metadata": {},
   "outputs": [],
   "source": [
    "optimizer = torch.optim.SGD(model.parameters(), lr=0.003)"
   ]
  },
  {
   "cell_type": "code",
   "execution_count": 280,
   "metadata": {},
   "outputs": [
    {
     "name": "stdout",
     "output_type": "stream",
     "text": [
      "Training loss:  0.2535095512866974\n",
      "Training loss:  0.2507546544075012\n",
      "Training loss:  0.24833962321281433\n",
      "Training loss:  0.24605225026607513\n",
      "Training loss:  0.24379852414131165\n"
     ]
    }
   ],
   "source": [
    "#def training(epochs)\n",
    "epochs = 500\n",
    "for e in range(epochs):\n",
    "    output = model(Xtrain)\n",
    "    labels = ytrain.unsqueeze(1)\n",
    "    optimizer.zero_grad()\n",
    "    loss = criterion(output, labels)\n",
    "    loss.backward()\n",
    "    optimizer.step()\n",
    "    if e % 100 == 0:\n",
    "        print(\"Training loss: \",loss.item())"
   ]
  },
  {
   "cell_type": "code",
   "execution_count": 281,
   "metadata": {},
   "outputs": [
    {
     "data": {
      "text/plain": [
       "3"
      ]
     },
     "execution_count": 281,
     "metadata": {},
     "output_type": "execute_result"
    }
   ],
   "source": [
    "predictions = output.detach().numpy()\n",
    "predictions = np.where(predictions > 0.5, 1, 0)\n",
    "predictions.sum()"
   ]
  },
  {
   "cell_type": "code",
   "execution_count": 282,
   "metadata": {},
   "outputs": [
    {
     "data": {
      "text/plain": [
       "0.8571428571428571"
      ]
     },
     "execution_count": 282,
     "metadata": {},
     "output_type": "execute_result"
    }
   ],
   "source": [
    "accuracy_score(predictions,ytrain.numpy())"
   ]
  },
  {
   "cell_type": "code",
   "execution_count": 283,
   "metadata": {},
   "outputs": [
    {
     "data": {
      "text/plain": [
       "0.8571428571428571"
      ]
     },
     "execution_count": 283,
     "metadata": {},
     "output_type": "execute_result"
    }
   ],
   "source": [
    "f1_score(predictions,ytrain.numpy())"
   ]
  },
  {
   "cell_type": "code",
   "execution_count": 260,
   "metadata": {},
   "outputs": [
    {
     "data": {
      "text/plain": [
       "tensor([[0.2878],\n",
       "        [0.3000],\n",
       "        [0.2977],\n",
       "        ...,\n",
       "        [0.2916],\n",
       "        [0.3110],\n",
       "        [0.2980]], grad_fn=<SigmoidBackward>)"
      ]
     },
     "execution_count": 260,
     "metadata": {},
     "output_type": "execute_result"
    }
   ],
   "source": [
    "output"
   ]
  },
  {
   "cell_type": "code",
   "execution_count": null,
   "metadata": {},
   "outputs": [],
   "source": []
  }
 ],
 "metadata": {
  "kernelspec": {
   "display_name": "Python 3",
   "language": "python",
   "name": "python3"
  },
  "language_info": {
   "codemirror_mode": {
    "name": "ipython",
    "version": 3
   },
   "file_extension": ".py",
   "mimetype": "text/x-python",
   "name": "python",
   "nbconvert_exporter": "python",
   "pygments_lexer": "ipython3",
   "version": "3.7.6"
  }
 },
 "nbformat": 4,
 "nbformat_minor": 4
}
