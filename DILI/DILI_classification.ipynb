{
  "nbformat": 4,
  "nbformat_minor": 0,
  "metadata": {
    "colab": {
      "name": "DILI_classification.ipynb",
      "provenance": [],
      "authorship_tag": "ABX9TyMaBUi5BIs6GOOdBcOvz5hG",
      "include_colab_link": true
    },
    "kernelspec": {
      "name": "python3",
      "display_name": "Python 3"
    }
  },
  "cells": [
    {
      "cell_type": "markdown",
      "metadata": {
        "id": "view-in-github",
        "colab_type": "text"
      },
      "source": [
        "<a href=\"https://colab.research.google.com/github/ddhackiisc/code/blob/master/DILI/DILI_classification.ipynb\" target=\"_parent\"><img src=\"https://colab.research.google.com/assets/colab-badge.svg\" alt=\"Open In Colab\"/></a>"
      ]
    },
    {
      "cell_type": "code",
      "metadata": {
        "id": "r6qXkGAO2kla",
        "colab_type": "code",
        "colab": {}
      },
      "source": [
        "!pip install padelpy"
      ],
      "execution_count": null,
      "outputs": []
    },
    {
      "cell_type": "code",
      "metadata": {
        "id": "XB9pmoppG-U7",
        "colab_type": "code",
        "colab": {}
      },
      "source": [
        "import pandas as pd\n",
        "import numpy as np\n",
        "from padelpy import from_smiles"
      ],
      "execution_count": 4,
      "outputs": []
    },
    {
      "cell_type": "code",
      "metadata": {
        "id": "-LMeyXKxjhoZ",
        "colab_type": "code",
        "colab": {}
      },
      "source": [
        "!rm -r /content/openbabel-openbabel-2-4-0.tar.gz"
      ],
      "execution_count": 70,
      "outputs": []
    },
    {
      "cell_type": "code",
      "metadata": {
        "id": "B0_lnODrWIR6",
        "colab_type": "code",
        "colab": {
          "resources": {
            "http://localhost:8080/nbextensions/google.colab/files.js": {
              "data": "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",
              "ok": true,
              "headers": [
                [
                  "content-type",
                  "application/javascript"
                ]
              ],
              "status": 200,
              "status_text": ""
            }
          },
          "base_uri": "https://localhost:8080/",
          "height": 72
        },
        "outputId": "a2d1bf7b-2a61-4dd3-a07f-6252bec92d91"
      },
      "source": [
        "from google.colab import files\n",
        "uploaded = files.upload()"
      ],
      "execution_count": 49,
      "outputs": [
        {
          "output_type": "display_data",
          "data": {
            "text/html": [
              "\n",
              "     <input type=\"file\" id=\"files-ac8f913f-1a21-40f9-9b86-e588f719c1e5\" name=\"files[]\" multiple disabled\n",
              "        style=\"border:none\" />\n",
              "     <output id=\"result-ac8f913f-1a21-40f9-9b86-e588f719c1e5\">\n",
              "      Upload widget is only available when the cell has been executed in the\n",
              "      current browser session. Please rerun this cell to enable.\n",
              "      </output>\n",
              "      <script src=\"/nbextensions/google.colab/files.js\"></script> "
            ],
            "text/plain": [
              "<IPython.core.display.HTML object>"
            ]
          },
          "metadata": {
            "tags": []
          }
        },
        {
          "output_type": "stream",
          "text": [
            "Saving openbabel-openbabel-2-4-0.tar.gz to openbabel-openbabel-2-4-0.tar.gz\n"
          ],
          "name": "stdout"
        }
      ]
    },
    {
      "cell_type": "code",
      "metadata": {
        "id": "XL1FltQlYEkP",
        "colab_type": "code",
        "colab": {}
      },
      "source": [
        "train_df = pd.read_csv(\"combined_train.csv\")\n",
        "train_smiles = train_df['smiles'].to_numpy()\n",
        "train_labels = train_df['label'].to_numpy()\n"
      ],
      "execution_count": 48,
      "outputs": []
    },
    {
      "cell_type": "code",
      "metadata": {
        "id": "JN5bSSUBen-i",
        "colab_type": "code",
        "colab": {}
      },
      "source": [
        "def create_bit_vector(fingerprints):\n",
        "  bit_vector = np.empty((881))\n",
        "  for j in range(881):\n",
        "    bit_vector[j] = int(fingerprints['PubchemFP'+str(j)])\n",
        "  return bit_vector\n",
        "\n",
        "\n",
        "def pubchem_fingerprints(smiles_array):\n",
        "  fingerprints = np.empty((len(smiles_array), 881))\n",
        "  for i in range(len(smiles_array)):\n",
        "    print(\"Processing Molecule {}\".format(i))\n",
        "    pubc_fingerp = from_smiles(smiles_array[i], descriptors=False, fingerprints=True, timeout=30)\n",
        "    pubc_fingerp_b = create_bit_vector(pubc_fingerp)\n",
        "    fingerprints[i,:] = pubc_fingerp_b\n",
        "  return fingerprints"
      ],
      "execution_count": 45,
      "outputs": []
    },
    {
      "cell_type": "code",
      "metadata": {
        "id": "wMjZu4dlI7Rg",
        "colab_type": "code",
        "colab": {
          "base_uri": "https://localhost:8080/",
          "height": 1000
        },
        "outputId": "172d3949-f77b-4cba-b9db-a7b883457272"
      },
      "source": [
        "train_input = pubchem_fingerprints(train_smiles)"
      ],
      "execution_count": 46,
      "outputs": [
        {
          "output_type": "stream",
          "text": [
            "Processing Molecule 0\n",
            "Processing Molecule 1\n",
            "Processing Molecule 2\n",
            "Processing Molecule 3\n",
            "Processing Molecule 4\n",
            "Processing Molecule 5\n",
            "Processing Molecule 6\n",
            "Processing Molecule 7\n",
            "Processing Molecule 8\n",
            "Processing Molecule 9\n",
            "Processing Molecule 10\n",
            "Processing Molecule 11\n",
            "Processing Molecule 12\n",
            "Processing Molecule 13\n",
            "Processing Molecule 14\n",
            "Processing Molecule 15\n",
            "Processing Molecule 16\n",
            "Processing Molecule 17\n",
            "Processing Molecule 18\n",
            "Processing Molecule 19\n",
            "Processing Molecule 20\n",
            "Processing Molecule 21\n",
            "Processing Molecule 22\n",
            "Processing Molecule 23\n",
            "Processing Molecule 24\n",
            "Processing Molecule 25\n",
            "Processing Molecule 26\n",
            "Processing Molecule 27\n",
            "Processing Molecule 28\n",
            "Processing Molecule 29\n",
            "Processing Molecule 30\n",
            "Processing Molecule 31\n",
            "Processing Molecule 32\n",
            "Processing Molecule 33\n",
            "Processing Molecule 34\n",
            "Processing Molecule 35\n",
            "Processing Molecule 36\n",
            "Processing Molecule 37\n",
            "Processing Molecule 38\n",
            "Processing Molecule 39\n",
            "Processing Molecule 40\n",
            "Processing Molecule 41\n",
            "Processing Molecule 42\n",
            "Processing Molecule 43\n",
            "Processing Molecule 44\n",
            "Processing Molecule 45\n",
            "Processing Molecule 46\n",
            "Processing Molecule 47\n",
            "Processing Molecule 48\n",
            "Processing Molecule 49\n",
            "Processing Molecule 50\n",
            "Processing Molecule 51\n",
            "Processing Molecule 52\n",
            "Processing Molecule 53\n",
            "Processing Molecule 54\n",
            "Processing Molecule 55\n",
            "Processing Molecule 56\n",
            "Processing Molecule 57\n",
            "Processing Molecule 58\n",
            "Processing Molecule 59\n",
            "Processing Molecule 60\n",
            "Processing Molecule 61\n",
            "Processing Molecule 62\n",
            "Processing Molecule 63\n",
            "Processing Molecule 64\n",
            "Processing Molecule 65\n",
            "Processing Molecule 66\n",
            "Processing Molecule 67\n",
            "Processing Molecule 68\n",
            "Processing Molecule 69\n",
            "Processing Molecule 70\n",
            "Processing Molecule 71\n",
            "Processing Molecule 72\n",
            "Processing Molecule 73\n",
            "Processing Molecule 74\n",
            "Processing Molecule 75\n",
            "Processing Molecule 76\n",
            "Processing Molecule 77\n",
            "Processing Molecule 78\n",
            "Processing Molecule 79\n",
            "Processing Molecule 80\n",
            "Processing Molecule 81\n",
            "Processing Molecule 82\n",
            "Processing Molecule 83\n",
            "Processing Molecule 84\n",
            "Processing Molecule 85\n",
            "Processing Molecule 86\n",
            "Processing Molecule 87\n",
            "Processing Molecule 88\n",
            "Processing Molecule 89\n",
            "Processing Molecule 90\n",
            "Processing Molecule 91\n",
            "Processing Molecule 92\n",
            "Processing Molecule 93\n",
            "Processing Molecule 94\n",
            "Processing Molecule 95\n",
            "Processing Molecule 96\n",
            "Processing Molecule 97\n",
            "Processing Molecule 98\n",
            "Processing Molecule 99\n",
            "Processing Molecule 100\n",
            "Processing Molecule 101\n",
            "Processing Molecule 102\n",
            "Processing Molecule 103\n",
            "Processing Molecule 104\n",
            "Processing Molecule 105\n",
            "Processing Molecule 106\n",
            "Processing Molecule 107\n",
            "Processing Molecule 108\n",
            "Processing Molecule 109\n",
            "Processing Molecule 110\n",
            "Processing Molecule 111\n",
            "Processing Molecule 112\n",
            "Processing Molecule 113\n",
            "Processing Molecule 114\n",
            "Processing Molecule 115\n",
            "Processing Molecule 116\n",
            "Processing Molecule 117\n",
            "Processing Molecule 118\n",
            "Processing Molecule 119\n",
            "Processing Molecule 120\n",
            "Processing Molecule 121\n",
            "Processing Molecule 122\n",
            "Processing Molecule 123\n",
            "Processing Molecule 124\n",
            "Processing Molecule 125\n",
            "Processing Molecule 126\n",
            "Processing Molecule 127\n",
            "Processing Molecule 128\n",
            "Processing Molecule 129\n",
            "Processing Molecule 130\n",
            "Processing Molecule 131\n",
            "Processing Molecule 132\n",
            "Processing Molecule 133\n",
            "Processing Molecule 134\n",
            "Processing Molecule 135\n",
            "Processing Molecule 136\n",
            "Processing Molecule 137\n",
            "Processing Molecule 138\n",
            "Processing Molecule 139\n",
            "Processing Molecule 140\n",
            "Processing Molecule 141\n",
            "Processing Molecule 142\n",
            "Processing Molecule 143\n",
            "Processing Molecule 144\n",
            "Processing Molecule 145\n",
            "Processing Molecule 146\n",
            "Processing Molecule 147\n",
            "Processing Molecule 148\n",
            "Processing Molecule 149\n",
            "Processing Molecule 150\n",
            "Processing Molecule 151\n",
            "Processing Molecule 152\n",
            "Processing Molecule 153\n",
            "Processing Molecule 154\n",
            "Processing Molecule 155\n",
            "Processing Molecule 156\n",
            "Processing Molecule 157\n",
            "Processing Molecule 158\n",
            "Processing Molecule 159\n",
            "Processing Molecule 160\n",
            "Processing Molecule 161\n",
            "Processing Molecule 162\n",
            "Processing Molecule 163\n",
            "Processing Molecule 164\n",
            "Processing Molecule 165\n",
            "Processing Molecule 166\n",
            "Processing Molecule 167\n",
            "Processing Molecule 168\n",
            "Processing Molecule 169\n",
            "Processing Molecule 170\n",
            "Processing Molecule 171\n",
            "Processing Molecule 172\n",
            "Processing Molecule 173\n",
            "Processing Molecule 174\n",
            "Processing Molecule 175\n",
            "Processing Molecule 176\n",
            "Processing Molecule 177\n",
            "Processing Molecule 178\n",
            "Processing Molecule 179\n",
            "Processing Molecule 180\n",
            "Processing Molecule 181\n",
            "Processing Molecule 182\n",
            "Processing Molecule 183\n",
            "Processing Molecule 184\n",
            "Processing Molecule 185\n",
            "Processing Molecule 186\n",
            "Processing Molecule 187\n",
            "Processing Molecule 188\n",
            "Processing Molecule 189\n",
            "Processing Molecule 190\n",
            "Processing Molecule 191\n",
            "Processing Molecule 192\n",
            "Processing Molecule 193\n",
            "Processing Molecule 194\n",
            "Processing Molecule 195\n",
            "Processing Molecule 196\n",
            "Processing Molecule 197\n"
          ],
          "name": "stdout"
        }
      ]
    }
  ]
}