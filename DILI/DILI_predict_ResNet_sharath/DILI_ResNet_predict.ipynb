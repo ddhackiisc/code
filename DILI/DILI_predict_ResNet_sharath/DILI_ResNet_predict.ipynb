# resnet model 
# teh general structure is taken from:-  https://github.com/hfawaz/dl-4-tsc

import tensorflow.keras as keras
import tensorflow as tf
import numpy as np
import time
import pandas as pd

import matplotlib
matplotlib.use('agg')
import matplotlib.pyplot as plt

import sklearn.model_selection as sk


class Classifier_RESNET:

    def build_model(input_shape, nb_classes):
        n_feature_maps = 9

        input_layer = keras.layers.Input(shape = input_shape)

        reshape = keras.layers.Reshape((881,1))(input_layer)
        conv_initial = keras.layers.Conv1D(filters = n_feature_maps, kernel_size = 9, padding='same')(reshape)

        # BLOCK 1

        conv_x = keras.layers.Conv1D(filters=n_feature_maps, kernel_size=9, padding='same')(conv_initial)
        conv_x = keras.layers.BatchNormalization()(conv_x)
        conv_x = keras.layers.Activation('relu')(conv_x)

        conv_y = keras.layers.Conv1D(filters=n_feature_maps, kernel_size=9, padding='same')(conv_x)
        conv_y = keras.layers.BatchNormalization()(conv_y)
        conv_y = keras.layers.Activation('relu')(conv_y)

        # shortcut 1
        output_block_1 = keras.layers.add([conv_initial, conv_y])
        output_block_1 = keras.layers.BatchNormalization()(output_block_1)
        output_block_1 = keras.layers.Activation('relu')(output_block_1)


        # BLOCK 2

        conv_x = keras.layers.Conv1D(filters=n_feature_maps, kernel_size=9, padding='same')(output_block_1)
        conv_x = keras.layers.BatchNormalization()(conv_x)
        conv_x = keras.layers.Activation('relu')(conv_x)

        conv_y = keras.layers.Conv1D(filters=n_feature_maps, kernel_size=9, padding='same')(conv_x)
        conv_y = keras.layers.BatchNormalization()(conv_y)
        conv_y = keras.layers.Activation('relu')(conv_y)

        # shortcut 2
        output_block_2 = keras.layers.add([output_block_1, conv_y])
        output_block_2 = keras.layers.BatchNormalization()(output_block_2)
        output_block_2 = keras.layers.Activation('relu')(output_block_2)




        # BLOCK 3

        conv_x = keras.layers.Conv1D(filters=n_feature_maps, kernel_size=9, padding='same')(output_block_2)
        conv_x = keras.layers.BatchNormalization()(conv_x)
        conv_x = keras.layers.Activation('relu')(conv_x)

        conv_y = keras.layers.Conv1D(filters=n_feature_maps, kernel_size=9, padding='same')(conv_x)
        conv_y = keras.layers.BatchNormalization()(conv_y)
        conv_y = keras.layers.Activation('relu')(conv_y)

        # shortcut 3
        output_block_3 = keras.layers.add([output_block_2, conv_y])
        output_block_3 = keras.layers.BatchNormalization()(output_block_3)
        output_block_3 = keras.layers.Activation('relu')(output_block_3)





        # BLOCK 4

        conv_x = keras.layers.Conv1D(filters=2*n_feature_maps, kernel_size=9, padding='same')(output_block_3)
        conv_x = keras.layers.BatchNormalization()(conv_x)
        conv_x = keras.layers.Activation('relu')(conv_x)

        conv_y = keras.layers.Conv1D(filters=2*n_feature_maps, kernel_size=9, padding='same')(conv_x)
        conv_y = keras.layers.BatchNormalization()(conv_y)
        conv_y = keras.layers.Activation('relu')(conv_y)

        # shortcut 4

        shortcut_conv_4 = keras.layers.Conv1D(filters=2*n_feature_maps, kernel_size=1, padding="same")(output_block_3)
        shortcut_conv_4 = keras.layers.BatchNormalization()(shortcut_conv_4)


        output_block_4 = keras.layers.add([shortcut_conv_4, conv_y])
        output_block_4 = keras.layers.BatchNormalization()(output_block_4)
        output_block_4 = keras.layers.Activation('relu')(output_block_4)








        # BLOCK 5

        conv_x = keras.layers.Conv1D(filters=2*n_feature_maps, kernel_size=9, padding='same')(output_block_4)
        conv_x = keras.layers.BatchNormalization()(conv_x)
        conv_x = keras.layers.Activation('relu')(conv_x)

        conv_y = keras.layers.Conv1D(filters=2*n_feature_maps, kernel_size=9, padding='same')(conv_x)
        conv_y = keras.layers.BatchNormalization()(conv_y)
        conv_y = keras.layers.Activation('relu')(conv_y)

        # shortcut 5
        output_block_5 = keras.layers.add([output_block_4, conv_y])
        output_block_5 = keras.layers.BatchNormalization()(output_block_5)
        output_block_5 = keras.layers.Activation('relu')(output_block_5)







        # BLOCK 6

        conv_x = keras.layers.Conv1D(filters=2*n_feature_maps, kernel_size=9, padding='same')(output_block_5)
        conv_x = keras.layers.BatchNormalization()(conv_x)
        conv_x = keras.layers.Activation('relu')(conv_x)

        conv_y = keras.layers.Conv1D(filters=2*n_feature_maps, kernel_size=9, padding='same')(conv_x)
        conv_y = keras.layers.BatchNormalization()(conv_y)
        conv_y = keras.layers.Activation('relu')(conv_y)

        # shortcut 6
        output_block_6 = keras.layers.add([output_block_5, conv_y])
        output_block_6 = keras.layers.BatchNormalization()(output_block_6)
        output_block_6 = keras.layers.Activation('relu')(output_block_6)







        # BLOCK 7

        conv_x = keras.layers.Conv1D(filters=4*n_feature_maps, kernel_size=9, padding='same')(output_block_6)
        conv_x = keras.layers.BatchNormalization()(conv_x)
        conv_x = keras.layers.Activation('relu')(conv_x)

        conv_y = keras.layers.Conv1D(filters=4*n_feature_maps, kernel_size=9, padding='same')(conv_x)
        conv_y = keras.layers.BatchNormalization()(conv_y)
        conv_y = keras.layers.Activation('relu')(conv_y)

        # shortcut 7

        shortcut_conv_7 = keras.layers.Conv1D(filters=4*n_feature_maps, kernel_size=1, padding="same")(output_block_6)
        shortcut_conv_7 = keras.layers.BatchNormalization()(shortcut_conv_7)

        output_block_7 = keras.layers.add([shortcut_conv_7, conv_y])
        output_block_7 = keras.layers.BatchNormalization()(output_block_7)
        output_block_7 = keras.layers.Activation('relu')(output_block_7)






        # BLOCK 8

        conv_x = keras.layers.Conv1D(filters=4*n_feature_maps, kernel_size=9, padding='same')(output_block_7)
        conv_x = keras.layers.BatchNormalization()(conv_x)
        conv_x = keras.layers.Activation('relu')(conv_x)

        conv_y = keras.layers.Conv1D(filters=4*n_feature_maps, kernel_size=9, padding='same')(conv_x)
        conv_y = keras.layers.BatchNormalization()(conv_y)
        conv_y = keras.layers.Activation('relu')(conv_y)

        # shortcut 8
        output_block_8 = keras.layers.add([output_block_7, conv_y])
        output_block_8 = keras.layers.BatchNormalization()(output_block_8)
        output_block_8 = keras.layers.Activation('relu')(output_block_8)





        # BLOCK 9

        conv_x = keras.layers.Conv1D(filters=4*n_feature_maps, kernel_size=9, padding='same')(output_block_8)
        conv_x = keras.layers.BatchNormalization()(conv_x)
        conv_x = keras.layers.Activation('relu')(conv_x)

        conv_y = keras.layers.Conv1D(filters=4*n_feature_maps, kernel_size=9, padding='same')(conv_x)
        conv_y = keras.layers.BatchNormalization()(conv_y)
        conv_y = keras.layers.Activation('relu')(conv_y)

        # shortcut 9
        output_block_9 = keras.layers.add([output_block_8, conv_y])
        output_block_9 = keras.layers.BatchNormalization()(output_block_9)
        output_block_9 = keras.layers.Activation('relu')(output_block_9)




        # BLOCK 10

        conv_x = keras.layers.Conv1D(filters=8*n_feature_maps, kernel_size=9, padding='same')(output_block_9)
        conv_x = keras.layers.BatchNormalization()(conv_x)
        conv_x = keras.layers.Activation('relu')(conv_x)

        conv_y = keras.layers.Conv1D(filters=8*n_feature_maps, kernel_size=9, padding='same')(conv_x)
        conv_y = keras.layers.BatchNormalization()(conv_y)
        conv_y = keras.layers.Activation('relu')(conv_y)

        # shortcut 10

        shortcut_conv_10 = keras.layers.Conv1D(filters=8*n_feature_maps, kernel_size=1, padding="same")(output_block_9)
        shortcut_conv_10 = keras.layers.BatchNormalization()(shortcut_conv_10)

        output_block_10 = keras.layers.add([shortcut_conv_10, conv_y])
        output_block_10 = keras.layers.BatchNormalization()(output_block_10)
        output_block_10 = keras.layers.Activation('relu')(output_block_10)




        # BLOCK 11

        conv_x = keras.layers.Conv1D(filters=8*n_feature_maps, kernel_size=9, padding='same')(output_block_10)
        conv_x = keras.layers.BatchNormalization()(conv_x)
        conv_x = keras.layers.Activation('relu')(conv_x)

        conv_y = keras.layers.Conv1D(filters=8*n_feature_maps, kernel_size=9, padding='same')(conv_x)
        conv_y = keras.layers.BatchNormalization()(conv_y)
        conv_y = keras.layers.Activation('relu')(conv_y)

        # shortcut 11
        output_block_11 = keras.layers.add([output_block_10, conv_y])
        output_block_11 = keras.layers.BatchNormalization()(output_block_11)
        output_block_11 = keras.layers.Activation('relu')(output_block_11)




        # BLOCK 12

        conv_x = keras.layers.Conv1D(filters=8*n_feature_maps, kernel_size=9, padding='same')(output_block_11)
        conv_x = keras.layers.BatchNormalization()(conv_x)
        conv_x = keras.layers.Activation('relu')(conv_x)

        conv_y = keras.layers.Conv1D(filters=8*n_feature_maps, kernel_size=9, padding='same')(conv_x)
        conv_y = keras.layers.BatchNormalization()(conv_y)
        conv_y = keras.layers.Activation('relu')(conv_y)

        # shortcut 12
        output_block_12 = keras.layers.add([output_block_11, conv_y])
        output_block_12 = keras.layers.BatchNormalization()(output_block_12)
        output_block_12 = keras.layers.Activation('relu')(output_block_12)






        # FINAL

        gap_layer = keras.layers.GlobalAveragePooling1D()(output_block_12)

        flatten = keras.layers.Flatten()(gap_layer)

        end_layer = keras.layers.Dense(970, activation="relu")(gap_layer)

        output_layer = keras.layers.Dense(nb_classes, activation='sigmoid')(end_layer)

        model = keras.models.Model(inputs=input_layer, outputs=output_layer)

        new_adam = keras.optimizers.Adam(learning_rate=0.00001)
        
        model.compile(loss='categorical_crossentropy', optimizer=new_adam,
                      metrics=['accuracy'])

        return model


from google.colab import drive
drive.mount('/content/drive')


#copied verbatim from Resnet_trial.ipynb
#need to manually upload the files before running this cell

data = pd.read_csv('/content/drive/My Drive/DILIST_input_with_labels.csv', header=None).to_numpy(dtype=np.int8)
input = data[:, :881]
label = data[:, 881:883]

X_train, X_test, y_train, y_test = sk.train_test_split(input,label,test_size=0.15, random_state = 10)



main_model = Classifier_RESNET.build_model(input_shape=(881,), nb_classes = 2)

main_model.fit(X_train, y_train, epochs = 50, batch_size=47)

test_scores = main_model.evaluate(X_test, y_test, verbose=2)
print("Test loss:", test_scores[0])
print("Test accuracy:", test_scores[1])


